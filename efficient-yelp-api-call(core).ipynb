{
 "cells": [
  {
   "cell_type": "code",
   "execution_count": 7,
   "metadata": {},
   "outputs": [],
   "source": [
    "# Standard Imports\n",
    "import numpy as np\n",
    "import pandas as pd\n",
    "import matplotlib.pyplot as plt\n",
    "import seaborn as sns\n",
    "# Additional Imports\n",
    "import os, json, math, time\n",
    "from yelpapi import YelpAPI\n",
    "from tqdm.notebook import tqdm_notebook\n",
    "\n"
   ]
  },
  {
   "cell_type": "code",
   "execution_count": 1,
   "metadata": {},
   "outputs": [
    {
     "data": {
      "text/plain": [
       "dict_keys(['client-id', 'api-key'])"
      ]
     },
     "execution_count": 1,
     "metadata": {},
     "output_type": "execute_result"
    }
   ],
   "source": [
    "import json\n",
    "with open('C:\\\\Users\\\\Sly\\\\.secret\\\\yelp_api.json') as f: #change the path to match YOUR path!!\n",
    "    login = json.load(f)\n",
    "login.keys()"
   ]
  },
  {
   "cell_type": "code",
   "execution_count": 2,
   "metadata": {},
   "outputs": [
    {
     "data": {
      "text/plain": [
       "<yelpapi.yelpapi.YelpAPI at 0x213e4a4cb80>"
      ]
     },
     "execution_count": 2,
     "metadata": {},
     "output_type": "execute_result"
    }
   ],
   "source": [
    "from yelpapi import YelpAPI\n",
    "yelp_api = YelpAPI(login[\"api-key\"], timeout_s=5.0)\n",
    "yelp_api\n"
   ]
  },
  {
   "cell_type": "code",
   "execution_count": 3,
   "metadata": {},
   "outputs": [
    {
     "name": "stdout",
     "output_type": "stream",
     "text": [
      "<class 'dict'>\n"
     ]
    },
    {
     "data": {
      "text/plain": [
       "dict_keys(['businesses', 'total', 'region'])"
      ]
     },
     "execution_count": 3,
     "metadata": {},
     "output_type": "execute_result"
    }
   ],
   "source": [
    "# Quick Test Query\n",
    "results = yelp_api.search_query(location='Chicago, IL',\n",
    "                                       term='Pizza')\n",
    "print(type(results))\n",
    "results.keys()"
   ]
  },
  {
   "cell_type": "code",
   "execution_count": 5,
   "metadata": {},
   "outputs": [],
   "source": [
    "# set our API call parameters \n",
    "LOCATION = 'Chicago,IL'\n",
    "TERM = 'Pizza'\n"
   ]
  },
  {
   "cell_type": "code",
   "execution_count": 6,
   "metadata": {},
   "outputs": [
    {
     "data": {
      "text/plain": [
       "'Data/results_in_progress_chicago_pizza.json'"
      ]
     },
     "execution_count": 6,
     "metadata": {},
     "output_type": "execute_result"
    }
   ],
   "source": [
    "# Specifying JSON_FILE filename (can include a folder)\n",
    "# include the search terms in the filename\n",
    "JSON_FILE = \"Data/results_in_progress_chicago_pizza.json\"\n",
    "JSON_FILE\n",
    "\n"
   ]
  },
  {
   "cell_type": "code",
   "execution_count": 8,
   "metadata": {},
   "outputs": [
    {
     "name": "stdout",
     "output_type": "stream",
     "text": [
      "[i] Data/results_in_progress_chicago_pizza.json not found. Saving empty list to file.\n"
     ]
    }
   ],
   "source": [
    "## Check if JSON_FILE exists\n",
    "file_exists = os.path.isfile(JSON_FILE)\n",
    "## If it does not exist: \n",
    "if file_exists == False:\n",
    "    \n",
    "    ## CREATE ANY NEEDED FOLDERS\n",
    "    # Get the Folder Name only\n",
    "    folder = os.path.dirname(JSON_FILE)\n",
    "    ## If JSON_FILE included a folder:\n",
    "    if len(folder)>0:\n",
    "        # create the folder\n",
    "        os.makedirs(folder,exist_ok=True)\n",
    "        \n",
    "        \n",
    "    ## INFORM USER AND SAVE EMPTY LIST\n",
    "    print(f'[i] {JSON_FILE} not found. Saving empty list to file.')\n",
    "    \n",
    "    \n",
    "    # save an empty list\n",
    "    with open(JSON_FILE,'w') as f:\n",
    "        json.dump([],f)  \n",
    "# If it exists, inform user\n",
    "else:\n",
    "    print(f\"[i] {JSON_FILE} already exists.\")\n"
   ]
  },
  {
   "cell_type": "code",
   "execution_count": 11,
   "metadata": {},
   "outputs": [
    {
     "name": "stdout",
     "output_type": "stream",
     "text": [
      "- 0 previous results found.\n"
     ]
    }
   ],
   "source": [
    "## Load previous results and use len of results for offset\n",
    "with open(JSON_FILE,'r') as f:\n",
    "    previous_results = json.load(f)\n",
    "    \n",
    "## set offset based on previous results\n",
    "n_results = len(previous_results)\n",
    "print(f'- {n_results} previous results found.')\n",
    "\n"
   ]
  },
  {
   "cell_type": "code",
   "execution_count": 12,
   "metadata": {},
   "outputs": [
    {
     "data": {
      "text/plain": [
       "dict_keys(['businesses', 'total', 'region'])"
      ]
     },
     "execution_count": 12,
     "metadata": {},
     "output_type": "execute_result"
    }
   ],
   "source": [
    "# use our yelp_api variable's search_query method to perform our API call\n",
    "results = yelp_api.search_query(location=LOCATION,\n",
    "                                term=TERM,\n",
    "                               offset=n_results)\n",
    "results.keys()\n",
    "\n"
   ]
  },
  {
   "cell_type": "code",
   "execution_count": 13,
   "metadata": {},
   "outputs": [
    {
     "data": {
      "text/plain": [
       "5300"
      ]
     },
     "execution_count": 13,
     "metadata": {},
     "output_type": "execute_result"
    }
   ],
   "source": [
    "## How many results total?\n",
    "total_results = results['total']\n",
    "total_results\n",
    "\n"
   ]
  },
  {
   "cell_type": "code",
   "execution_count": 14,
   "metadata": {},
   "outputs": [
    {
     "data": {
      "text/plain": [
       "20"
      ]
     },
     "execution_count": 14,
     "metadata": {},
     "output_type": "execute_result"
    }
   ],
   "source": [
    "## How many did we get the details for?\n",
    "results_per_page = len(results['businesses'])\n",
    "results_per_page\n",
    "\n"
   ]
  },
  {
   "cell_type": "code",
   "execution_count": 15,
   "metadata": {},
   "outputs": [
    {
     "data": {
      "text/plain": [
       "265"
      ]
     },
     "execution_count": 15,
     "metadata": {},
     "output_type": "execute_result"
    }
   ],
   "source": [
    "# Import additional packages for controlling our loop\n",
    "import time, math\n",
    "# Use math.ceil to round up for the total number of pages of results.\n",
    "n_pages = math.ceil((results['total']-n_results)/ results_per_page)\n",
    "n_pages\n",
    "\n"
   ]
  },
  {
   "cell_type": "code",
   "execution_count": 16,
   "metadata": {},
   "outputs": [],
   "source": [
    "# join new results with old list with extend and save to file\n",
    "previous_results.extend(results['businesses'])  \n",
    "with open(JSON_FILE,'w') as f:\n",
    "     json.dump(previous_results,f)\n"
   ]
  },
  {
   "cell_type": "code",
   "execution_count": 17,
   "metadata": {},
   "outputs": [],
   "source": [
    "def create_json_file(JSON_FILE,  delete_if_exists=False):\n",
    "    \n",
    "    ## Check if JSON_FILE exists\n",
    "    file_exists = os.path.isfile(JSON_FILE)\n",
    "    \n",
    "    ## If it DOES exist:\n",
    "    if file_exists == True:\n",
    "        \n",
    "        ## Check if user wants to delete if exists\n",
    "        if delete_if_exists==True:\n",
    "            \n",
    "            print(f\"[!] {JSON_FILE} already exists. Deleting previous file...\")\n",
    "            ## delete file and confirm it no longer exits.\n",
    "            os.remove(JSON_FILE)\n",
    "            ## Recursive call to function after old file deleted\n",
    "            create_json_file(JSON_FILE,delete_if_exists=False)\n",
    "        else:\n",
    "            print(f\"[i] {JSON_FILE} already exists.\")            \n",
    "            \n",
    "            \n",
    "    ## If it does NOT exist:\n",
    "    else:\n",
    "        \n",
    "        ## INFORM USER AND SAVE EMPTY LIST\n",
    "        print(f\"[i] {JSON_FILE} not found. Saving empty list to new file.\")\n",
    "        \n",
    "        ## CREATE ANY NEEDED FOLDERS\n",
    "        # Get the Folder Name only\n",
    "        folder = os.path.dirname(JSON_FILE)\n",
    "        \n",
    "        ## If JSON_FILE included a folder:\n",
    "        if len(folder)>0:\n",
    "            # create the folder\n",
    "            os.makedirs(folder,exist_ok=True)\n",
    "        ## Save empty list to start the json file\n",
    "        with open(JSON_FILE,'w') as f:\n",
    "            json.dump([],f)  \n",
    "\n"
   ]
  },
  {
   "cell_type": "code",
   "execution_count": 18,
   "metadata": {},
   "outputs": [
    {
     "data": {
      "application/vnd.jupyter.widget-view+json": {
       "model_id": "c78fac28bf8b45c29703c57e0a33a009",
       "version_major": 2,
       "version_minor": 0
      },
      "text/plain": [
       "  0%|          | 0/265 [00:00<?, ?it/s]"
      ]
     },
     "metadata": {},
     "output_type": "display_data"
    },
    {
     "name": "stdout",
     "output_type": "stream",
     "text": [
      "Exceeded 1000 api calls. Stopping loop.\n"
     ]
    }
   ],
   "source": [
    "for i in tqdm_notebook( range(1,n_pages+1)):\n",
    "    \n",
    "    ## Read in results in progress file and check the length\n",
    "    with open(JSON_FILE, 'r') as f:\n",
    "        previous_results = json.load(f)\n",
    "    ## save number of results for to use as offset\n",
    "    n_results = len(previous_results)\n",
    "    \n",
    "    if (n_results + results_per_page) > 1000:\n",
    "        print('Exceeded 1000 api calls. Stopping loop.')\n",
    "        break\n",
    "    \n",
    "    ## use n_results as the OFFSET \n",
    "    results = yelp_api.search_query(location=LOCATION,\n",
    "                                    term=TERM, \n",
    "                                    offset=n_results)\n",
    "    \n",
    "    \n",
    "    \n",
    "    ## append new results and save to file\n",
    "    previous_results.extend(results['businesses'])\n",
    "    \n",
    "    # display(previous_results)\n",
    "    with open(JSON_FILE,'w') as f:\n",
    "        json.dump(previous_results,f)\n",
    "    \n",
    "    time.sleep(.2)\n",
    "\n"
   ]
  },
  {
   "cell_type": "code",
   "execution_count": 19,
   "metadata": {},
   "outputs": [
    {
     "data": {
      "text/html": [
       "<div>\n",
       "<style scoped>\n",
       "    .dataframe tbody tr th:only-of-type {\n",
       "        vertical-align: middle;\n",
       "    }\n",
       "\n",
       "    .dataframe tbody tr th {\n",
       "        vertical-align: top;\n",
       "    }\n",
       "\n",
       "    .dataframe thead th {\n",
       "        text-align: right;\n",
       "    }\n",
       "</style>\n",
       "<table border=\"1\" class=\"dataframe\">\n",
       "  <thead>\n",
       "    <tr style=\"text-align: right;\">\n",
       "      <th></th>\n",
       "      <th>id</th>\n",
       "      <th>alias</th>\n",
       "      <th>name</th>\n",
       "      <th>image_url</th>\n",
       "      <th>is_closed</th>\n",
       "      <th>url</th>\n",
       "      <th>review_count</th>\n",
       "      <th>categories</th>\n",
       "      <th>rating</th>\n",
       "      <th>coordinates</th>\n",
       "      <th>transactions</th>\n",
       "      <th>price</th>\n",
       "      <th>location</th>\n",
       "      <th>phone</th>\n",
       "      <th>display_phone</th>\n",
       "      <th>distance</th>\n",
       "    </tr>\n",
       "  </thead>\n",
       "  <tbody>\n",
       "    <tr>\n",
       "      <th>0</th>\n",
       "      <td>DXwSYgiXqIVNdO9dazel6w</td>\n",
       "      <td>pequods-pizzeria-chicago</td>\n",
       "      <td>Pequod's Pizzeria</td>\n",
       "      <td>https://s3-media1.fl.yelpcdn.com/bphoto/8QJUNb...</td>\n",
       "      <td>False</td>\n",
       "      <td>https://www.yelp.com/biz/pequods-pizzeria-chic...</td>\n",
       "      <td>7688</td>\n",
       "      <td>[{'alias': 'pizza', 'title': 'Pizza'}]</td>\n",
       "      <td>4.0</td>\n",
       "      <td>{'latitude': 41.92187, 'longitude': -87.664486}</td>\n",
       "      <td>[pickup, delivery]</td>\n",
       "      <td>$$</td>\n",
       "      <td>{'address1': '2207 N Clybourn Ave', 'address2'...</td>\n",
       "      <td>+17733271512</td>\n",
       "      <td>(773) 327-1512</td>\n",
       "      <td>2158.708458</td>\n",
       "    </tr>\n",
       "    <tr>\n",
       "      <th>1</th>\n",
       "      <td>8vFJH_paXsMocmEO_KAa3w</td>\n",
       "      <td>lou-malnatis-pizzeria-chicago</td>\n",
       "      <td>Lou Malnati's Pizzeria</td>\n",
       "      <td>https://s3-media1.fl.yelpcdn.com/bphoto/abCXuj...</td>\n",
       "      <td>False</td>\n",
       "      <td>https://www.yelp.com/biz/lou-malnatis-pizzeria...</td>\n",
       "      <td>7167</td>\n",
       "      <td>[{'alias': 'pizza', 'title': 'Pizza'}, {'alias...</td>\n",
       "      <td>4.0</td>\n",
       "      <td>{'latitude': 41.890357, 'longitude': -87.633704}</td>\n",
       "      <td>[pickup, delivery]</td>\n",
       "      <td>$$</td>\n",
       "      <td>{'address1': '439 N Wells St', 'address2': '',...</td>\n",
       "      <td>+13128289800</td>\n",
       "      <td>(312) 828-9800</td>\n",
       "      <td>4000.999053</td>\n",
       "    </tr>\n",
       "    <tr>\n",
       "      <th>2</th>\n",
       "      <td>Bxd9Y2PsdvIOGIKFQh53RQ</td>\n",
       "      <td>giordanos-chicago-30</td>\n",
       "      <td>Giordano's</td>\n",
       "      <td>https://s3-media1.fl.yelpcdn.com/bphoto/OKxuR9...</td>\n",
       "      <td>False</td>\n",
       "      <td>https://www.yelp.com/biz/giordanos-chicago-30?...</td>\n",
       "      <td>3585</td>\n",
       "      <td>[{'alias': 'pizza', 'title': 'Pizza'}, {'alias...</td>\n",
       "      <td>4.0</td>\n",
       "      <td>{'latitude': 41.88513231411071, 'longitude': -...</td>\n",
       "      <td>[delivery]</td>\n",
       "      <td>$$</td>\n",
       "      <td>{'address1': '130 E Randolph St', 'address2': ...</td>\n",
       "      <td>+13126161200</td>\n",
       "      <td>(312) 616-1200</td>\n",
       "      <td>4994.255603</td>\n",
       "    </tr>\n",
       "    <tr>\n",
       "      <th>3</th>\n",
       "      <td>TBoYnkPNFn9ASccYCYsJfw</td>\n",
       "      <td>nancys-pizza-west-loop-chicago</td>\n",
       "      <td>Nancy's Pizza West Loop</td>\n",
       "      <td>https://s3-media3.fl.yelpcdn.com/bphoto/Ew6IzX...</td>\n",
       "      <td>False</td>\n",
       "      <td>https://www.yelp.com/biz/nancys-pizza-west-loo...</td>\n",
       "      <td>166</td>\n",
       "      <td>[{'alias': 'pizza', 'title': 'Pizza'}, {'alias...</td>\n",
       "      <td>4.5</td>\n",
       "      <td>{'latitude': 41.88331, 'longitude': -87.65269}</td>\n",
       "      <td>[pickup, delivery, restaurant_reservation]</td>\n",
       "      <td>$$</td>\n",
       "      <td>{'address1': '1000 W Washington Blvd', 'addres...</td>\n",
       "      <td>+13127339920</td>\n",
       "      <td>(312) 733-9920</td>\n",
       "      <td>3179.050691</td>\n",
       "    </tr>\n",
       "    <tr>\n",
       "      <th>4</th>\n",
       "      <td>uTkMnmsQ1-iOtbyFmW0uIw</td>\n",
       "      <td>professor-pizza-chicago</td>\n",
       "      <td>Professor Pizza</td>\n",
       "      <td>https://s3-media2.fl.yelpcdn.com/bphoto/QzMH67...</td>\n",
       "      <td>False</td>\n",
       "      <td>https://www.yelp.com/biz/professor-pizza-chica...</td>\n",
       "      <td>30</td>\n",
       "      <td>[{'alias': 'pizza', 'title': 'Pizza'}]</td>\n",
       "      <td>4.5</td>\n",
       "      <td>{'latitude': 41.889217, 'longitude': -87.651297}</td>\n",
       "      <td>[delivery, pickup]</td>\n",
       "      <td>NaN</td>\n",
       "      <td>{'address1': '406 N Sangamon St', 'address2': ...</td>\n",
       "      <td>+13126615319</td>\n",
       "      <td>(312) 661-5319</td>\n",
       "      <td>2822.252327</td>\n",
       "    </tr>\n",
       "  </tbody>\n",
       "</table>\n",
       "</div>"
      ],
      "text/plain": [
       "                       id                           alias  \\\n",
       "0  DXwSYgiXqIVNdO9dazel6w        pequods-pizzeria-chicago   \n",
       "1  8vFJH_paXsMocmEO_KAa3w   lou-malnatis-pizzeria-chicago   \n",
       "2  Bxd9Y2PsdvIOGIKFQh53RQ            giordanos-chicago-30   \n",
       "3  TBoYnkPNFn9ASccYCYsJfw  nancys-pizza-west-loop-chicago   \n",
       "4  uTkMnmsQ1-iOtbyFmW0uIw         professor-pizza-chicago   \n",
       "\n",
       "                      name                                          image_url  \\\n",
       "0        Pequod's Pizzeria  https://s3-media1.fl.yelpcdn.com/bphoto/8QJUNb...   \n",
       "1   Lou Malnati's Pizzeria  https://s3-media1.fl.yelpcdn.com/bphoto/abCXuj...   \n",
       "2               Giordano's  https://s3-media1.fl.yelpcdn.com/bphoto/OKxuR9...   \n",
       "3  Nancy's Pizza West Loop  https://s3-media3.fl.yelpcdn.com/bphoto/Ew6IzX...   \n",
       "4          Professor Pizza  https://s3-media2.fl.yelpcdn.com/bphoto/QzMH67...   \n",
       "\n",
       "   is_closed                                                url  review_count  \\\n",
       "0      False  https://www.yelp.com/biz/pequods-pizzeria-chic...          7688   \n",
       "1      False  https://www.yelp.com/biz/lou-malnatis-pizzeria...          7167   \n",
       "2      False  https://www.yelp.com/biz/giordanos-chicago-30?...          3585   \n",
       "3      False  https://www.yelp.com/biz/nancys-pizza-west-loo...           166   \n",
       "4      False  https://www.yelp.com/biz/professor-pizza-chica...            30   \n",
       "\n",
       "                                          categories  rating  \\\n",
       "0             [{'alias': 'pizza', 'title': 'Pizza'}]     4.0   \n",
       "1  [{'alias': 'pizza', 'title': 'Pizza'}, {'alias...     4.0   \n",
       "2  [{'alias': 'pizza', 'title': 'Pizza'}, {'alias...     4.0   \n",
       "3  [{'alias': 'pizza', 'title': 'Pizza'}, {'alias...     4.5   \n",
       "4             [{'alias': 'pizza', 'title': 'Pizza'}]     4.5   \n",
       "\n",
       "                                         coordinates  \\\n",
       "0    {'latitude': 41.92187, 'longitude': -87.664486}   \n",
       "1   {'latitude': 41.890357, 'longitude': -87.633704}   \n",
       "2  {'latitude': 41.88513231411071, 'longitude': -...   \n",
       "3     {'latitude': 41.88331, 'longitude': -87.65269}   \n",
       "4   {'latitude': 41.889217, 'longitude': -87.651297}   \n",
       "\n",
       "                                 transactions price  \\\n",
       "0                          [pickup, delivery]    $$   \n",
       "1                          [pickup, delivery]    $$   \n",
       "2                                  [delivery]    $$   \n",
       "3  [pickup, delivery, restaurant_reservation]    $$   \n",
       "4                          [delivery, pickup]   NaN   \n",
       "\n",
       "                                            location         phone  \\\n",
       "0  {'address1': '2207 N Clybourn Ave', 'address2'...  +17733271512   \n",
       "1  {'address1': '439 N Wells St', 'address2': '',...  +13128289800   \n",
       "2  {'address1': '130 E Randolph St', 'address2': ...  +13126161200   \n",
       "3  {'address1': '1000 W Washington Blvd', 'addres...  +13127339920   \n",
       "4  {'address1': '406 N Sangamon St', 'address2': ...  +13126615319   \n",
       "\n",
       "    display_phone     distance  \n",
       "0  (773) 327-1512  2158.708458  \n",
       "1  (312) 828-9800  4000.999053  \n",
       "2  (312) 616-1200  4994.255603  \n",
       "3  (312) 733-9920  3179.050691  \n",
       "4  (312) 661-5319  2822.252327  "
      ]
     },
     "metadata": {},
     "output_type": "display_data"
    },
    {
     "data": {
      "text/html": [
       "<div>\n",
       "<style scoped>\n",
       "    .dataframe tbody tr th:only-of-type {\n",
       "        vertical-align: middle;\n",
       "    }\n",
       "\n",
       "    .dataframe tbody tr th {\n",
       "        vertical-align: top;\n",
       "    }\n",
       "\n",
       "    .dataframe thead th {\n",
       "        text-align: right;\n",
       "    }\n",
       "</style>\n",
       "<table border=\"1\" class=\"dataframe\">\n",
       "  <thead>\n",
       "    <tr style=\"text-align: right;\">\n",
       "      <th></th>\n",
       "      <th>id</th>\n",
       "      <th>alias</th>\n",
       "      <th>name</th>\n",
       "      <th>image_url</th>\n",
       "      <th>is_closed</th>\n",
       "      <th>url</th>\n",
       "      <th>review_count</th>\n",
       "      <th>categories</th>\n",
       "      <th>rating</th>\n",
       "      <th>coordinates</th>\n",
       "      <th>transactions</th>\n",
       "      <th>price</th>\n",
       "      <th>location</th>\n",
       "      <th>phone</th>\n",
       "      <th>display_phone</th>\n",
       "      <th>distance</th>\n",
       "    </tr>\n",
       "  </thead>\n",
       "  <tbody>\n",
       "    <tr>\n",
       "      <th>995</th>\n",
       "      <td>pkc8oSE8lSEGFvXla1J_Vg</td>\n",
       "      <td>la-pizza-and-la-pasta-at-eataly-chicago-chicago</td>\n",
       "      <td>La Pizza &amp; La Pasta at Eataly Chicago</td>\n",
       "      <td>https://s3-media2.fl.yelpcdn.com/bphoto/9gkSDq...</td>\n",
       "      <td>False</td>\n",
       "      <td>https://www.yelp.com/biz/la-pizza-and-la-pasta...</td>\n",
       "      <td>170</td>\n",
       "      <td>[{'alias': 'italian', 'title': 'Italian'}, {'a...</td>\n",
       "      <td>3.5</td>\n",
       "      <td>{'latitude': 41.892189, 'longitude': -87.626031}</td>\n",
       "      <td>[delivery]</td>\n",
       "      <td>$$</td>\n",
       "      <td>{'address1': '43 E Ohio St', 'address2': '', '...</td>\n",
       "      <td>+13125218700</td>\n",
       "      <td>(312) 521-8700</td>\n",
       "      <td>4518.138331</td>\n",
       "    </tr>\n",
       "    <tr>\n",
       "      <th>996</th>\n",
       "      <td>nhSsJ9ABrlt11G_1-RrqDw</td>\n",
       "      <td>el-ranchito-restaurant-chicago-5</td>\n",
       "      <td>El Ranchito Restaurant</td>\n",
       "      <td>https://s3-media2.fl.yelpcdn.com/bphoto/NQzoWs...</td>\n",
       "      <td>False</td>\n",
       "      <td>https://www.yelp.com/biz/el-ranchito-restauran...</td>\n",
       "      <td>461</td>\n",
       "      <td>[{'alias': 'mexican', 'title': 'Mexican'}, {'a...</td>\n",
       "      <td>2.0</td>\n",
       "      <td>{'latitude': 41.93276, 'longitude': -87.7129}</td>\n",
       "      <td>[delivery, pickup]</td>\n",
       "      <td>$</td>\n",
       "      <td>{'address1': '2829 N Milwaukee Ave', 'address2...</td>\n",
       "      <td>+17732271688</td>\n",
       "      <td>(773) 227-1688</td>\n",
       "      <td>4227.722420</td>\n",
       "    </tr>\n",
       "    <tr>\n",
       "      <th>997</th>\n",
       "      <td>MVrDteOcDumw3RUnVvRAxw</td>\n",
       "      <td>dreams-pizza-on-the-9-markham</td>\n",
       "      <td>Dream's Pizza On The 9</td>\n",
       "      <td>https://s3-media1.fl.yelpcdn.com/bphoto/9R19Fr...</td>\n",
       "      <td>False</td>\n",
       "      <td>https://www.yelp.com/biz/dreams-pizza-on-the-9...</td>\n",
       "      <td>22</td>\n",
       "      <td>[{'alias': 'italian', 'title': 'Italian'}, {'a...</td>\n",
       "      <td>4.0</td>\n",
       "      <td>{'latitude': 41.60239, 'longitude': -87.71635}</td>\n",
       "      <td>[delivery, pickup]</td>\n",
       "      <td>NaN</td>\n",
       "      <td>{'address1': '15743 Crawford Ave', 'address2':...</td>\n",
       "      <td>+17089860700</td>\n",
       "      <td>(708) 986-0700</td>\n",
       "      <td>33810.331588</td>\n",
       "    </tr>\n",
       "    <tr>\n",
       "      <th>998</th>\n",
       "      <td>Dt6PM-PdUrGBN9ss1U6rtg</td>\n",
       "      <td>d-agostino-s-pizza-and-pub-river-grove-river-g...</td>\n",
       "      <td>D’Agostino’s Pizza and Pub River Grove</td>\n",
       "      <td>https://s3-media4.fl.yelpcdn.com/bphoto/9fgaqS...</td>\n",
       "      <td>False</td>\n",
       "      <td>https://www.yelp.com/biz/d-agostino-s-pizza-an...</td>\n",
       "      <td>39</td>\n",
       "      <td>[{'alias': 'pubs', 'title': 'Pubs'}, {'alias':...</td>\n",
       "      <td>3.0</td>\n",
       "      <td>{'latitude': 41.936528, 'longitude': -87.835631}</td>\n",
       "      <td>[delivery, pickup]</td>\n",
       "      <td>NaN</td>\n",
       "      <td>{'address1': '3131 Thatcher Ave', 'address2': ...</td>\n",
       "      <td>+17084533247</td>\n",
       "      <td>(708) 453-3247</td>\n",
       "      <td>13517.016481</td>\n",
       "    </tr>\n",
       "    <tr>\n",
       "      <th>999</th>\n",
       "      <td>2tErhaqgdXstrilg3I0Jgw</td>\n",
       "      <td>the-map-room-chicago</td>\n",
       "      <td>The Map Room</td>\n",
       "      <td>https://s3-media1.fl.yelpcdn.com/bphoto/-AO6aW...</td>\n",
       "      <td>False</td>\n",
       "      <td>https://www.yelp.com/biz/the-map-room-chicago?...</td>\n",
       "      <td>804</td>\n",
       "      <td>[{'alias': 'bars', 'title': 'Bars'}, {'alias':...</td>\n",
       "      <td>4.0</td>\n",
       "      <td>{'latitude': 41.9176, 'longitude': -87.67979}</td>\n",
       "      <td>[delivery]</td>\n",
       "      <td>$$</td>\n",
       "      <td>{'address1': '1949 N Hoyne Ave', 'address2': '...</td>\n",
       "      <td>+17732529351</td>\n",
       "      <td>(773) 252-9351</td>\n",
       "      <td>1394.161172</td>\n",
       "    </tr>\n",
       "  </tbody>\n",
       "</table>\n",
       "</div>"
      ],
      "text/plain": [
       "                         id  \\\n",
       "995  pkc8oSE8lSEGFvXla1J_Vg   \n",
       "996  nhSsJ9ABrlt11G_1-RrqDw   \n",
       "997  MVrDteOcDumw3RUnVvRAxw   \n",
       "998  Dt6PM-PdUrGBN9ss1U6rtg   \n",
       "999  2tErhaqgdXstrilg3I0Jgw   \n",
       "\n",
       "                                                 alias  \\\n",
       "995    la-pizza-and-la-pasta-at-eataly-chicago-chicago   \n",
       "996                   el-ranchito-restaurant-chicago-5   \n",
       "997                      dreams-pizza-on-the-9-markham   \n",
       "998  d-agostino-s-pizza-and-pub-river-grove-river-g...   \n",
       "999                               the-map-room-chicago   \n",
       "\n",
       "                                       name  \\\n",
       "995   La Pizza & La Pasta at Eataly Chicago   \n",
       "996                  El Ranchito Restaurant   \n",
       "997                  Dream's Pizza On The 9   \n",
       "998  D’Agostino’s Pizza and Pub River Grove   \n",
       "999                            The Map Room   \n",
       "\n",
       "                                             image_url  is_closed  \\\n",
       "995  https://s3-media2.fl.yelpcdn.com/bphoto/9gkSDq...      False   \n",
       "996  https://s3-media2.fl.yelpcdn.com/bphoto/NQzoWs...      False   \n",
       "997  https://s3-media1.fl.yelpcdn.com/bphoto/9R19Fr...      False   \n",
       "998  https://s3-media4.fl.yelpcdn.com/bphoto/9fgaqS...      False   \n",
       "999  https://s3-media1.fl.yelpcdn.com/bphoto/-AO6aW...      False   \n",
       "\n",
       "                                                   url  review_count  \\\n",
       "995  https://www.yelp.com/biz/la-pizza-and-la-pasta...           170   \n",
       "996  https://www.yelp.com/biz/el-ranchito-restauran...           461   \n",
       "997  https://www.yelp.com/biz/dreams-pizza-on-the-9...            22   \n",
       "998  https://www.yelp.com/biz/d-agostino-s-pizza-an...            39   \n",
       "999  https://www.yelp.com/biz/the-map-room-chicago?...           804   \n",
       "\n",
       "                                            categories  rating  \\\n",
       "995  [{'alias': 'italian', 'title': 'Italian'}, {'a...     3.5   \n",
       "996  [{'alias': 'mexican', 'title': 'Mexican'}, {'a...     2.0   \n",
       "997  [{'alias': 'italian', 'title': 'Italian'}, {'a...     4.0   \n",
       "998  [{'alias': 'pubs', 'title': 'Pubs'}, {'alias':...     3.0   \n",
       "999  [{'alias': 'bars', 'title': 'Bars'}, {'alias':...     4.0   \n",
       "\n",
       "                                          coordinates        transactions  \\\n",
       "995  {'latitude': 41.892189, 'longitude': -87.626031}          [delivery]   \n",
       "996     {'latitude': 41.93276, 'longitude': -87.7129}  [delivery, pickup]   \n",
       "997    {'latitude': 41.60239, 'longitude': -87.71635}  [delivery, pickup]   \n",
       "998  {'latitude': 41.936528, 'longitude': -87.835631}  [delivery, pickup]   \n",
       "999     {'latitude': 41.9176, 'longitude': -87.67979}          [delivery]   \n",
       "\n",
       "    price                                           location         phone  \\\n",
       "995    $$  {'address1': '43 E Ohio St', 'address2': '', '...  +13125218700   \n",
       "996     $  {'address1': '2829 N Milwaukee Ave', 'address2...  +17732271688   \n",
       "997   NaN  {'address1': '15743 Crawford Ave', 'address2':...  +17089860700   \n",
       "998   NaN  {'address1': '3131 Thatcher Ave', 'address2': ...  +17084533247   \n",
       "999    $$  {'address1': '1949 N Hoyne Ave', 'address2': '...  +17732529351   \n",
       "\n",
       "      display_phone      distance  \n",
       "995  (312) 521-8700   4518.138331  \n",
       "996  (773) 227-1688   4227.722420  \n",
       "997  (708) 986-0700  33810.331588  \n",
       "998  (708) 453-3247  13517.016481  \n",
       "999  (773) 252-9351   1394.161172  "
      ]
     },
     "metadata": {},
     "output_type": "display_data"
    }
   ],
   "source": [
    "# load final results\n",
    "final_df = pd.read_json(JSON_FILE)\n",
    "display(final_df.head(), final_df.tail())\n"
   ]
  },
  {
   "cell_type": "code",
   "execution_count": 20,
   "metadata": {},
   "outputs": [
    {
     "data": {
      "text/plain": [
       "0"
      ]
     },
     "execution_count": 20,
     "metadata": {},
     "output_type": "execute_result"
    }
   ],
   "source": [
    "## Drop duplicate ids and confirm there are no more duplicates\n",
    "final_df = final_df.drop_duplicates(subset='id')\n",
    "final_df.duplicated(subset='id').sum()\n"
   ]
  },
  {
   "cell_type": "code",
   "execution_count": 21,
   "metadata": {},
   "outputs": [],
   "source": [
    "# save the final results to a compressed csv\n",
    "final_df.to_csv('Data/final_results_NY_pizza.csv.gz', compression='gzip',index=False)\n",
    "\n"
   ]
  }
 ],
 "metadata": {
  "kernelspec": {
   "display_name": "dojo-env",
   "language": "python",
   "name": "python3"
  },
  "language_info": {
   "codemirror_mode": {
    "name": "ipython",
    "version": 3
   },
   "file_extension": ".py",
   "mimetype": "text/x-python",
   "name": "python",
   "nbconvert_exporter": "python",
   "pygments_lexer": "ipython3",
   "version": "3.9.15"
  },
  "orig_nbformat": 4
 },
 "nbformat": 4,
 "nbformat_minor": 2
}
